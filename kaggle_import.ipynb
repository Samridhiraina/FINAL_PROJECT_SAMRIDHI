{
  "nbformat": 4,
  "nbformat_minor": 0,
  "metadata": {
    "colab": {
      "provenance": [],
      "authorship_tag": "ABX9TyMyK4J9HfUIwx6tQDuojs3g",
      "include_colab_link": true
    },
    "kernelspec": {
      "name": "python3",
      "display_name": "Python 3"
    },
    "language_info": {
      "name": "python"
    }
  },
  "cells": [
    {
      "cell_type": "markdown",
      "metadata": {
        "id": "view-in-github",
        "colab_type": "text"
      },
      "source": [
        "<a href=\"https://colab.research.google.com/github/Samridhiraina/FINAL_PROJECT_SAMRIDHI/blob/main/kaggle_import.ipynb\" target=\"_parent\"><img src=\"https://colab.research.google.com/assets/colab-badge.svg\" alt=\"Open In Colab\"/></a>"
      ]
    },
    {
      "cell_type": "code",
      "execution_count": 1,
      "metadata": {
        "id": "hY8AsFGV3K73"
      },
      "outputs": [],
      "source": [
        "!pip install  -q kaggle"
      ]
    },
    {
      "cell_type": "code",
      "source": [
        "! mkdir ~/.kaggle"
      ],
      "metadata": {
        "id": "_0F2-F4w3zqj"
      },
      "execution_count": 3,
      "outputs": []
    },
    {
      "cell_type": "code",
      "source": [
        "!ls"
      ],
      "metadata": {
        "colab": {
          "base_uri": "https://localhost:8080/"
        },
        "id": "3hK-L6w8S2JG",
        "outputId": "a35adf17-162a-4488-8328-87c2082d4cf3"
      },
      "execution_count": 4,
      "outputs": [
        {
          "output_type": "stream",
          "name": "stdout",
          "text": [
            " kaggle  'kaggle (2).json'   sample_data\n"
          ]
        }
      ]
    },
    {
      "cell_type": "code",
      "source": [
        "!cp \"kaggle (2).json\" ~/.kaggle/"
      ],
      "metadata": {
        "id": "JYUZyQRmS99W"
      },
      "execution_count": 7,
      "outputs": []
    },
    {
      "cell_type": "code",
      "source": [
        "! chmod 600 \"/root/.kaggle/kaggle.json\""
      ],
      "metadata": {
        "id": "zhuKOoRATYlh"
      },
      "execution_count": 40,
      "outputs": []
    },
    {
      "cell_type": "code",
      "source": [
        "!kaggle datasets download -d shivkp/msci-portfolio-optimization\n"
      ],
      "metadata": {
        "colab": {
          "base_uri": "https://localhost:8080/"
        },
        "id": "3bu3PijbWp0G",
        "outputId": "7c8dedae-e264-4261-d10c-fdf33f23c6cc"
      },
      "execution_count": 41,
      "outputs": [
        {
          "output_type": "stream",
          "name": "stdout",
          "text": [
            "403 - Forbidden - Permission 'datasets.get' was denied\n"
          ]
        }
      ]
    },
    {
      "cell_type": "code",
      "source": [
        "!kaggle datasets download -d stefanoleone992/mutual-funds-and-etfs\n"
      ],
      "metadata": {
        "colab": {
          "base_uri": "https://localhost:8080/"
        },
        "id": "wyyc3U_4YkkR",
        "outputId": "7312a9c9-6563-4e67-92d8-6ccaff2bc904"
      },
      "execution_count": 42,
      "outputs": [
        {
          "output_type": "stream",
          "name": "stdout",
          "text": [
            "Dataset URL: https://www.kaggle.com/datasets/stefanoleone992/mutual-funds-and-etfs\n",
            "License(s): CC0-1.0\n",
            "Downloading mutual-funds-and-etfs.zip to /content\n",
            " 98% 345M/353M [00:07<00:00, 37.3MB/s]\n",
            "100% 353M/353M [00:07<00:00, 47.5MB/s]\n"
          ]
        }
      ]
    },
    {
      "cell_type": "code",
      "source": [
        "! ls \"/root/.kaggle\""
      ],
      "metadata": {
        "colab": {
          "base_uri": "https://localhost:8080/"
        },
        "id": "_OHVM2ndYn64",
        "outputId": "09cecb66-ff1f-42c7-a849-96fa892f4389"
      },
      "execution_count": 34,
      "outputs": [
        {
          "output_type": "stream",
          "name": "stdout",
          "text": [
            "kaggle.json\n"
          ]
        }
      ]
    },
    {
      "cell_type": "code",
      "source": [
        "! mv \"/root/.kaggle/kaggle (2).json\" \"/root/.kaggle/kaggle.json\""
      ],
      "metadata": {
        "id": "ic2spdLCZGMq"
      },
      "execution_count": 33,
      "outputs": []
    },
    {
      "cell_type": "code",
      "source": [],
      "metadata": {
        "id": "IzmcS1TNaEOt"
      },
      "execution_count": null,
      "outputs": []
    }
  ]
}